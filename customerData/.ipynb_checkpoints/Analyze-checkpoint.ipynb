{
 "cells": [
  {
   "cell_type": "code",
   "execution_count": 17,
   "id": "2c377eb7",
   "metadata": {},
   "outputs": [],
   "source": [
    "import pandas as pd\n",
    "import seaborn as sns\n",
    "import matplotlib.pyplot as plt"
   ]
  },
  {
   "cell_type": "code",
   "execution_count": 2,
   "id": "dece6610",
   "metadata": {
    "scrolled": true
   },
   "outputs": [],
   "source": [
    "df = pd.read_excel('FinalData.xlsx', index_col=0, sheet_name='Sheet1')\n",
    "df=df[['user', 'role', 'Technical skill']]\n",
    "df['role'] = df['role'].replace({'Mentor, Mentee': 'Mentor', 'Mentee, Mentor': 'Mentee'})"
   ]
  },
  {
   "cell_type": "code",
   "execution_count": 3,
   "id": "7f4d0170",
   "metadata": {},
   "outputs": [],
   "source": [
    "techskills = ['AI',\n",
    "             'Back End',\n",
    "             'Business Analysis',\n",
    "             'Computer Networking',\n",
    "             'Data analytics',\n",
    "             'Database Management',\n",
    "             'Digital Marketing',\n",
    "             'Finance',\n",
    "             'Front End',\n",
    "             'Full Stack',\n",
    "             'Sales and Marketing',\n",
    "             'SEO',\n",
    "             'Software Development',\n",
    "             'Supply Chain',\n",
    "            'Other']"
   ]
  },
  {
   "cell_type": "code",
   "execution_count": 4,
   "id": "c4a8cb0d",
   "metadata": {},
   "outputs": [],
   "source": [
    "df_clean = df[df['Technical skill'].notnull()]"
   ]
  },
  {
   "cell_type": "code",
   "execution_count": 24,
   "id": "82f1e4b5",
   "metadata": {
    "scrolled": true
   },
   "outputs": [
    {
     "name": "stderr",
     "output_type": "stream",
     "text": [
      "<ipython-input-24-6c7019e42519>:2: SettingWithCopyWarning: \n",
      "A value is trying to be set on a copy of a slice from a DataFrame.\n",
      "Try using .loc[row_indexer,col_indexer] = value instead\n",
      "\n",
      "See the caveats in the documentation: https://pandas.pydata.org/pandas-docs/stable/user_guide/indexing.html#returning-a-view-versus-a-copy\n",
      "  df_clean[skill] = [True if skill in skills else False for skills in df_clean['Technical skill']]\n"
     ]
    }
   ],
   "source": [
    "for skill in techskills:\n",
    "    df_clean[skill] = [True if skill in skills else False for skills in df_clean['Technical skill']]\n",
    "    \n",
    "df_mod = df_clean.pivot_table(index = 'role', values = techskills, aggfunc = 'sum')\n",
    "df_mod = df_mod[techskills]\n"
   ]
  },
  {
   "cell_type": "code",
   "execution_count": 31,
   "id": "a6ec4b06",
   "metadata": {},
   "outputs": [
    {
     "data": {
      "image/png": "[encoded data removed]",
      "text/plain": [
       "<Figure size 432x288 with 2 Axes>"
      ]
     },
     "metadata": {
      "needs_background": "light"
     },
     "output_type": "display_data"
    },
    {
     "data": {
      "text/plain": [
       "<Figure size 9600x6400 with 0 Axes>"
      ]
     },
     "metadata": {},
     "output_type": "display_data"
    }
   ],
   "source": [
    "sns.heatmap(data = df_mod, cmap=\"YlGnBu\", annot=True)\n",
    "plt.figure(dpi = 1600)\n",
    "plt.show()"
   ]
  },
  {
   "cell_type": "code",
   "execution_count": 32,
   "id": "cf4eb3d2",
   "metadata": {},
   "outputs": [
    {
     "data": {
      "text/html": [
       "<div>\n",
       "<style scoped>\n",
       "    .dataframe tbody tr th:only-of-type {\n",
       "        vertical-align: middle;\n",
       "    }\n",
       "\n",
       "    .dataframe tbody tr th {\n",
       "        vertical-align: top;\n",
       "    }\n",
       "\n",
       "    .dataframe thead th {\n",
       "        text-align: right;\n",
       "    }\n",
       "</style>\n",
       "<table border=\"1\" class=\"dataframe\">\n",
       "  <thead>\n",
       "    <tr style=\"text-align: right;\">\n",
       "      <th></th>\n",
       "      <th>AI</th>\n",
       "      <th>Back End</th>\n",
       "      <th>Business Analysis</th>\n",
       "      <th>Computer Networking</th>\n",
       "      <th>Data analytics</th>\n",
       "      <th>Database Management</th>\n",
       "      <th>Digital Marketing</th>\n",
       "      <th>Finance</th>\n",
       "      <th>Front End</th>\n",
       "      <th>Full Stack</th>\n",
       "      <th>Sales and Marketing</th>\n",
       "      <th>SEO</th>\n",
       "      <th>Software Development</th>\n",
       "      <th>Supply Chain</th>\n",
       "      <th>Other</th>\n",
       "    </tr>\n",
       "    <tr>\n",
       "      <th>role</th>\n",
       "      <th></th>\n",
       "      <th></th>\n",
       "      <th></th>\n",
       "      <th></th>\n",
       "      <th></th>\n",
       "      <th></th>\n",
       "      <th></th>\n",
       "      <th></th>\n",
       "      <th></th>\n",
       "      <th></th>\n",
       "      <th></th>\n",
       "      <th></th>\n",
       "      <th></th>\n",
       "      <th></th>\n",
       "      <th></th>\n",
       "    </tr>\n",
       "  </thead>\n",
       "  <tbody>\n",
       "    <tr>\n",
       "      <th>Mentee</th>\n",
       "      <td>4</td>\n",
       "      <td>2</td>\n",
       "      <td>1</td>\n",
       "      <td>0</td>\n",
       "      <td>5</td>\n",
       "      <td>0</td>\n",
       "      <td>3</td>\n",
       "      <td>1</td>\n",
       "      <td>0</td>\n",
       "      <td>0</td>\n",
       "      <td>1</td>\n",
       "      <td>0</td>\n",
       "      <td>1</td>\n",
       "      <td>0</td>\n",
       "      <td>1</td>\n",
       "    </tr>\n",
       "    <tr>\n",
       "      <th>Mentor</th>\n",
       "      <td>3</td>\n",
       "      <td>5</td>\n",
       "      <td>8</td>\n",
       "      <td>1</td>\n",
       "      <td>11</td>\n",
       "      <td>5</td>\n",
       "      <td>0</td>\n",
       "      <td>4</td>\n",
       "      <td>1</td>\n",
       "      <td>2</td>\n",
       "      <td>6</td>\n",
       "      <td>2</td>\n",
       "      <td>4</td>\n",
       "      <td>0</td>\n",
       "      <td>9</td>\n",
       "    </tr>\n",
       "  </tbody>\n",
       "</table>\n",
       "</div>"
      ],
      "text/plain": [
       "        AI  Back End  Business Analysis  Computer Networking  Data analytics  \\\n",
       "role                                                                           \n",
       "Mentee   4         2                  1                    0               5   \n",
       "Mentor   3         5                  8                    1              11   \n",
       "\n",
       "        Database Management  Digital Marketing  Finance  Front End  \\\n",
       "role                                                                 \n",
       "Mentee                    0                  3        1          0   \n",
       "Mentor                    5                  0        4          1   \n",
       "\n",
       "        Full Stack  Sales and Marketing  SEO  Software Development  \\\n",
       "role                                                                 \n",
       "Mentee           0                    1    0                     1   \n",
       "Mentor           2                    6    2                     4   \n",
       "\n",
       "        Supply Chain  Other  \n",
       "role                         \n",
       "Mentee             0      1  \n",
       "Mentor             0      9  "
      ]
     },
     "metadata": {},
     "output_type": "display_data"
    }
   ],
   "source": [
    "display(df_mod)"
   ]
  },
  {
   "cell_type": "code",
   "execution_count": 13,
   "id": "0de8b441",
   "metadata": {},
   "outputs": [],
   "source": [
    "df_mod.to_csv(\"DataAnalyze\", index = True)"
   ]
  },
  {
   "cell_type": "code",
   "execution_count": 8,
   "id": "06d134a5",
   "metadata": {},
   "outputs": [
    {
     "name": "stdout",
     "output_type": "stream",
     "text": [
      "<class 'pandas.core.frame.DataFrame'>\n",
      "Int64Index: 38 entries, 3 to 93\n",
      "Data columns (total 18 columns):\n",
      " #   Column                Non-Null Count  Dtype \n",
      "---  ------                --------------  ----- \n",
      " 0   user                  38 non-null     object\n",
      " 1   role                  38 non-null     object\n",
      " 2   Technical skill       38 non-null     object\n",
      " 3   AI                    38 non-null     bool  \n",
      " 4   Back End              38 non-null     bool  \n",
      " 5   Business Analysis     38 non-null     bool  \n",
      " 6   Computer Networking   38 non-null     bool  \n",
      " 7   Data analytics        38 non-null     bool  \n",
      " 8   Database Management   38 non-null     bool  \n",
      " 9   Digital Marketing     38 non-null     bool  \n",
      " 10  Finance               38 non-null     bool  \n",
      " 11  Front End             38 non-null     bool  \n",
      " 12  Full Stack            38 non-null     bool  \n",
      " 13  Sales and Marketing   38 non-null     bool  \n",
      " 14  SEO                   38 non-null     bool  \n",
      " 15  Software Development  38 non-null     bool  \n",
      " 16  Supply Chain          38 non-null     bool  \n",
      " 17  Other                 38 non-null     bool  \n",
      "dtypes: bool(15), object(3)\n",
      "memory usage: 1.7+ KB\n"
     ]
    }
   ],
   "source": [
    "df_clean.info()"
   ]
  },
  {
   "cell_type": "code",
   "execution_count": null,
   "id": "7835dde3",
   "metadata": {},
   "outputs": [],
   "source": []
  },
  {
   "cell_type": "code",
   "execution_count": null,
   "id": "c649cc5f",
   "metadata": {},
   "outputs": [],
   "source": []
  }
 ],
 "metadata": {
  "kernelspec": {
   "display_name": "Python 3",
   "language": "python",
   "name": "python3"
  },
  "language_info": {
   "codemirror_mode": {
    "name": "ipython",
    "version": 3
   },
   "file_extension": ".py",
   "mimetype": "text/x-python",
   "name": "python",
   "nbconvert_exporter": "python",
   "pygments_lexer": "ipython3",
   "version": "3.8.8"
  }
 },
 "nbformat": 4,
 "nbformat_minor": 5
}
