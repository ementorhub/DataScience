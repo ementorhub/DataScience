{
 "cells": [
  {
   "cell_type": "code",
   "execution_count": 1,
   "id": "b5a1dda4",
   "metadata": {},
   "outputs": [
    {
     "name": "stderr",
     "output_type": "stream",
     "text": [
      "<ipython-input-1-ed86c21c9b4c>:3: DeprecationWarning: executable_path has been deprecated, please pass in a Service object\n",
      "  driver = webdriver.Firefox(executable_path=driver_path)\n"
     ]
    }
   ],
   "source": [
    "from selenium import webdriver\n",
    "driver_path = r\"C:\\Users\\admin\\geckodriver.exe\"\n",
    "driver = webdriver.Firefox(executable_path=driver_path)"
   ]
  },
  {
   "cell_type": "code",
   "execution_count": 2,
   "id": "07649646",
   "metadata": {},
   "outputs": [
    {
     "name": "stderr",
     "output_type": "stream",
     "text": [
      "<ipython-input-2-16e6dfb28bc0>:6: DeprecationWarning: executable_path has been deprecated, please pass in a Service object\n",
      "  driver = webdriver.Firefox(executable_path=driver_path)\n",
      "<ipython-input-2-16e6dfb28bc0>:13: DeprecationWarning: find_element_by_* commands are deprecated. Please use find_element() instead\n",
      "  driver.find_element_by_id('username').send_keys(email)\n",
      "<ipython-input-2-16e6dfb28bc0>:14: DeprecationWarning: find_element_by_* commands are deprecated. Please use find_element() instead\n",
      "  driver.find_element_by_id('password').send_keys(password)\n",
      "<ipython-input-2-16e6dfb28bc0>:15: DeprecationWarning: find_element_by_* commands are deprecated. Please use find_element() instead\n",
      "  driver.find_element_by_id('password').send_keys(Keys.RETURN)\n"
     ]
    }
   ],
   "source": [
    "from selenium import webdriver\n",
    "import time\n",
    "from selenium.webdriver.common.keys import Keys\n",
    "# direct the webdriver to where the browser file is:\n",
    "driver_path = r\"C:\\Users\\admin\\geckodriver.exe\"\n",
    "driver = webdriver.Firefox(executable_path=driver_path)\n",
    "# your secret credentials:\n",
    "email = \"buituankiet132000@gmail.com\"\n",
    "password = \"pass:1+1*2=3?\"\n",
    "# Go to linkedin and login\n",
    "driver.get('https://www.linkedin.com/login')\n",
    "time.sleep(3)\n",
    "driver.find_element_by_id('username').send_keys(email)\n",
    "driver.find_element_by_id('password').send_keys(password)\n",
    "driver.find_element_by_id('password').send_keys(Keys.RETURN)"
   ]
  },
  {
   "cell_type": "code",
   "execution_count": 25,
   "id": "10bf95dc",
   "metadata": {},
   "outputs": [
    {
     "name": "stderr",
     "output_type": "stream",
     "text": [
      "<ipython-input-25-e1f81f35b01e>:4: DeprecationWarning: find_elements_by_* commands are deprecated. Please use find_elements() instead\n",
      "  search_bars = driver.find_elements_by_class_name('jobs-search-box__text-input')\n"
     ]
    }
   ],
   "source": [
    "driver.get(\"https://www.linkedin.com/jobs/\")\n",
    "time.sleep(3)\n",
    "# find the keywords/location search bars:\n",
    "search_bars = driver.find_elements_by_class_name('jobs-search-box__text-input')\n",
    "search_keywords = search_bars[0]\n",
    "search_keywords.send_keys(\"Data Analyst\")\n",
    "    \n",
    "search_location = search_bars[3]\n",
    "search_location.send_keys(\"Viet Nam\")\n",
    "search_location.send_keys(Keys.RETURN)"
   ]
  },
  {
   "cell_type": "code",
   "execution_count": null,
   "id": "f385ddd7",
   "metadata": {},
   "outputs": [
    {
     "name": "stderr",
     "output_type": "stream",
     "text": [
      "<ipython-input-26-750eac4f617f>:2: DeprecationWarning: find_elements_by_* commands are deprecated. Please use find_elements() instead\n",
      "  list_items = driver.find_elements_by_class_name(\"occludable-update\")\n",
      "<ipython-input-26-750eac4f617f>:11: DeprecationWarning: find_element_by_* commands are deprecated. Please use find_element() instead\n",
      "  details = driver.find_element_by_id(\"job-details\").text\n"
     ]
    }
   ],
   "source": [
    "# get a list of all the listings elements's in the side bar\n",
    "list_items = driver.find_elements_by_class_name(\"occludable-update\")\n",
    "# scrolls a single page:\n",
    "for job in list_items:\n",
    "    # executes JavaScript to scroll the div into view\n",
    "    driver.execute_script(\"arguments[0].scrollIntoView();\", job)\n",
    "    job.click()\n",
    "    time.sleep(3)\n",
    "    # get info:\n",
    "    [position, company, location] = job.text.split('\\n')[:3]\n",
    "    details = driver.find_element_by_id(\"job-details\").text\n",
    "    # do what you want with that info..."
   ]
  },
  {
   "cell_type": "code",
   "execution_count": 24,
   "id": "32434b65",
   "metadata": {},
   "outputs": [
    {
     "data": {
      "text/plain": [
       "<selenium.webdriver.remote.webelement.WebElement (session=\"14af225f-321a-4f84-b259-dae24db7f2e8\", element=\"cc1d1573-53b0-4847-84ff-b056b0a42e4b\")>"
      ]
     },
     "execution_count": 24,
     "metadata": {},
     "output_type": "execute_result"
    }
   ],
   "source": [
    "job"
   ]
  },
  {
   "cell_type": "code",
   "execution_count": null,
   "id": "357b4ae0",
   "metadata": {},
   "outputs": [],
   "source": []
  }
 ],
 "metadata": {
  "kernelspec": {
   "display_name": "Python 3",
   "language": "python",
   "name": "python3"
  },
  "language_info": {
   "codemirror_mode": {
    "name": "ipython",
    "version": 3
   },
   "file_extension": ".py",
   "mimetype": "text/x-python",
   "name": "python",
   "nbconvert_exporter": "python",
   "pygments_lexer": "ipython3",
   "version": "3.8.8"
  }
 },
 "nbformat": 4,
 "nbformat_minor": 5
}
