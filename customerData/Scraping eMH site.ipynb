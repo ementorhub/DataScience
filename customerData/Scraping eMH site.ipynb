{
 "cells": [
  {
   "cell_type": "code",
   "execution_count": null,
   "id": "ad4f8c2d",
   "metadata": {},
   "outputs": [],
   "source": [
    "import requests\n",
    "import scrapy\n",
    "import pandas as pd\n",
    "\n",
    "cookies = {\n",
    "    'wordpress_sec_6ef7f7293198b3c0f850c97eb92e606b': 'tuankiet%7C1637586287%7CBZdGRawRMmJtqVcxb2ZghfnjJTQAAQ14chlKHZrTodA%7C6d2060275e83be723e3330fe592f15e7f346e50816ae110530363a550ac919b9',\n",
    "    '_ga': 'GA1.1.2138357637.1634886347',\n",
    "    'accepted-cookie-policy': 'accepted',\n",
    "    'PHPSESSID': '0a19gc2nt01lf3vg52covvdtp6',\n",
    "    'wp-wpml_current_language': 'en',\n",
    "    '_ga_TZ0PQKEQSM': 'GS1.1.1637413484.32.0.1637413484.0',\n",
    "    'wordpress_test_cookie': 'WP%20Cookie%20check',\n",
    "    'wordpress_logged_in_6ef7f7293198b3c0f850c97eb92e606b': 'tuankiet%7C1637586287%7CBZdGRawRMmJtqVcxb2ZghfnjJTQAAQ14chlKHZrTodA%7C3d94e24768339bcbb3a24e1b80f0e461910fc608242d685c4714b7aa59692447',\n",
    "    'wp-wpml_current_admin_language_d41d8cd98f00b204e9800998ecf8427e': 'vi',\n",
    "    'AWSALB': 'khkf1nTJl4v5dOoXp3ktW9lspUNhoza0z6k87IBSYBeQTGQnErIr+x+Eo3YjiIuxpIZV2llsxOUaEskh4ZXFRp2rz+7PGRE36tI84DVuJZHw+F1CLBnlXP36Ab9t',\n",
    "    'AWSALBCORS': 'khkf1nTJl4v5dOoXp3ktW9lspUNhoza0z6k87IBSYBeQTGQnErIr+x+Eo3YjiIuxpIZV2llsxOUaEskh4ZXFRp2rz+7PGRE36tI84DVuJZHw+F1CLBnlXP36Ab9t',\n",
    "    'wp-settings-time-187': '1637425488',\n",
    "}\n",
    "\n",
    "headers = {\n",
    "    'authority': 'ementorhub.com',\n",
    "    'cache-control': 'max-age=0',\n",
    "    'sec-ch-ua': '\" Not A;Brand\";v=\"99\", \"Chromium\";v=\"96\", \"Google Chrome\";v=\"96\"',\n",
    "    'sec-ch-ua-mobile': '?0',\n",
    "    'sec-ch-ua-platform': '\"Windows\"',\n",
    "    'upgrade-insecure-requests': '1',\n",
    "    'user-agent': 'Mozilla/5.0 (Windows NT 10.0; Win64; x64) AppleWebKit/537.36 (KHTML, like Gecko) Chrome/96.0.4664.45 Safari/537.36',\n",
    "    'accept': 'text/html,application/xhtml+xml,application/xml;q=0.9,image/avif,image/webp,image/apng,*/*;q=0.8,application/signed-exchange;v=b3;q=0.9',\n",
    "    'sec-fetch-site': 'same-origin',\n",
    "    'sec-fetch-mode': 'navigate',\n",
    "    'sec-fetch-user': '?1',\n",
    "    'sec-fetch-dest': 'document',\n",
    "    'referer': 'https://ementorhub.com/wp-admin/user-edit.php?user_id=104&wp_http_referer=%2Fwp-admin%2Fusers.php',\n",
    "    'accept-language': 'en-US,en;q=0.9,vi-VN;q=0.8,vi;q=0.7',\n",
    "}\n"
   ]
  },
  {
   "cell_type": "code",
   "execution_count": null,
   "id": "ea1a42b8",
   "metadata": {},
   "outputs": [],
   "source": [
    "def cleanSelector(obj, xpath = './text()'):\n",
    "    clean_list = []\n",
    "    for i in range(len(obj)):\n",
    "        if obj[i].xpath(xpath).extract():\n",
    "            clean_list.append(obj[i].xpath(xpath).extract()[0])\n",
    "        else:\n",
    "            clean_list.append(None)\n",
    "    return clean_list\n",
    "            "
   ]
  },
  {
   "cell_type": "code",
   "execution_count": null,
   "id": "64a2498f",
   "metadata": {},
   "outputs": [],
   "source": [
    "links = ['https://ementorhub.com/wp-admin/users.php']\n",
    "#          'https://ementorhub.com/wp-admin/users.php?paged=2',\n",
    "#          'https://ementorhub.com/wp-admin/users.php?paged=3',\n",
    "#          'https://ementorhub.com/wp-admin/users.php?paged=4',\n",
    "#          'https://ementorhub.com/wp-admin/users.php?paged=5']"
   ]
  },
  {
   "cell_type": "code",
   "execution_count": null,
   "id": "0ed0c976",
   "metadata": {},
   "outputs": [],
   "source": [
    "data_dict = {'user': [],\n",
    "            'mail': [],\n",
    "            'link': [],\n",
    "            'role': [],\n",
    "            'In 3-5 years': []}"
   ]
  },
  {
   "cell_type": "code",
   "execution_count": null,
   "id": "ea5b290c",
   "metadata": {},
   "outputs": [],
   "source": [
    "\n",
    "for link in links:\n",
    "    response = requests.get(link, headers=headers, cookies=cookies).content\n",
    "    sel = scrapy.Selector(text = response)\n",
    "    users = cleanSelector(sel.xpath('//*[@id=\"the-list\"]//strong/a'))\n",
    "    mails = cleanSelector(sel.xpath('//*[@id=\"the-list\"]//td[@class = \"email column-email\"]/a'))\n",
    "    links = cleanSelector(sel.xpath('//*[@id=\"the-list\"]//td[@class = \"username column-username has-row-actions column-primary\"]/strong/a'), './@href')\n",
    "    roles = cleanSelector(sel.xpath('//*[@id=\"the-list\"]//td[@class = \"role column-role\"]'))\n",
    "    for i in range(len(users)):\n",
    "        data_dict['user'].append(users[i])\n",
    "        data_dict['mail'].append(mails[i])\n",
    "        data_dict['link'].append(links[i])\n",
    "        data_dict['role'].append(roles[i])\n",
    "        if data_dict['role'][i] == \"Administrator\":\n",
    "            data_dict['In 3-5 years'].append('Admin')\n",
    "        else:\n",
    "            res_detail = requests.get(links[i], headers=headers, cookies=cookies).content\n",
    "            sel_detail = scrapy.Selector(text = res_detail)\n",
    "            info = cleanSelector(sel_detail.xpath('//*[@id=\"your-profile\"]/table[7]/tbody/tr[30]//input'), './@value')\n",
    "            print(info)\n",
    "            data_dict['In 3-5 years'].append(info[0])\n",
    "            \n",
    "\n",
    "df = pd.DataFrame(data_dict)\n",
    "\n",
    "df.to_csv('email', index = False)\n",
    "display(df)\n",
    "# print(data_dict)"
   ]
  },
  {
   "cell_type": "code",
   "execution_count": null,
   "id": "1c4f87be",
   "metadata": {},
   "outputs": [],
   "source": [
    "\n",
    "for link in links:\n",
    "    response = requests.get(link, headers=headers, cookies=cookies).content\n",
    "    sel = scrapy.Selector(text = response)\n",
    "    print(sel)\n",
    "    users = cleanSelector(sel.xpath('//*[@id=\"the-list\"]//strong/a'))\n",
    "    mails = cleanSelector(sel.xpath('//*[@id=\"the-list\"]//td[@class = \"email column-email\"]/a'))\n",
    "    links = cleanSelector(sel.xpath('//*[@id=\"the-list\"]//td[@class = \"username column-username has-row-actions column-primary\"]/strong/a'), './@href')\n",
    "    roles = cleanSelector(sel.xpath('//*[@id=\"the-list\"]//td[@class = \"role column-role\"]'))\n",
    "    for i in range(len(users)):\n",
    "        data_dict['user'].append(users[i])\n",
    "        data_dict['mail'].append(mails[i])\n",
    "        data_dict['link'].append(links[i])\n",
    "        data_dict['role'].append(roles[i])\n",
    "#         if data_dict['role'][i] == \"Administrator\":\n",
    "#             data_dict['In 3-5 years'].append('Admin')\n",
    "#         else:\n",
    "#             res_detail = requests.get(links[i], headers=headers, cookies=cookies).content\n",
    "#             sel_detail = scrapy.Selector(text = res_detail)\n",
    "#             info = cleanSelector(sel_detail.xpath('//*[@id=\"your-profile\"]/table[7]/tbody/tr[30]//input'), './@value')\n",
    "#             print(info)\n",
    "#             data_dict['In 3-5 years'].append(info[0])\n",
    "            \n",
    "\n",
    "df = pd.DataFrame(data_dict)\n",
    "\n",
    "df.to_csv('email', index = False)\n",
    "display(df)\n",
    "print(data_dict)"
   ]
  },
  {
   "cell_type": "code",
   "execution_count": null,
   "id": "47f51b53",
   "metadata": {},
   "outputs": [],
   "source": []
  },
  {
   "cell_type": "code",
   "execution_count": null,
   "id": "bc583fb3",
   "metadata": {},
   "outputs": [],
   "source": []
  },
  {
   "cell_type": "code",
   "execution_count": null,
   "id": "ebbb9979",
   "metadata": {},
   "outputs": [],
   "source": []
  },
  {
   "cell_type": "code",
   "execution_count": null,
   "id": "cedb535a",
   "metadata": {},
   "outputs": [],
   "source": []
  },
  {
   "cell_type": "code",
   "execution_count": null,
   "id": "0fdc98a7",
   "metadata": {},
   "outputs": [],
   "source": []
  },
  {
   "cell_type": "code",
   "execution_count": null,
   "id": "d27fd73a",
   "metadata": {},
   "outputs": [],
   "source": [
    "\n"
   ]
  },
  {
   "cell_type": "code",
   "execution_count": null,
   "id": "187a08c4",
   "metadata": {},
   "outputs": [],
   "source": []
  }
 ],
 "metadata": {
  "kernelspec": {
   "display_name": "Python 3",
   "language": "python",
   "name": "python3"
  },
  "language_info": {
   "codemirror_mode": {
    "name": "ipython",
    "version": 3
   },
   "file_extension": ".py",
   "mimetype": "text/x-python",
   "name": "python",
   "nbconvert_exporter": "python",
   "pygments_lexer": "ipython3",
   "version": "3.8.8"
  }
 },
 "nbformat": 4,
 "nbformat_minor": 5
}
