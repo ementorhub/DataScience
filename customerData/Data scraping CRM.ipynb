{
 "cells": [
  {
   "cell_type": "code",
   "execution_count": 1,
   "id": "0e54cb4a",
   "metadata": {},
   "outputs": [],
   "source": [
    "import scrapy"
   ]
  },
  {
   "cell_type": "code",
   "execution_count": 2,
   "id": "35e7fbdf",
   "metadata": {},
   "outputs": [],
   "source": [
    "import requests\n",
    "\n",
    "headers = {\n",
    "    'authority': 'crm.ementorhub.com',\n",
    "    'cache-control': 'max-age=0',\n",
    "    'sec-ch-ua': '\" Not A;Brand\";v=\"99\", \"Chromium\";v=\"96\", \"Google Chrome\";v=\"96\"',\n",
    "    'sec-ch-ua-mobile': '?0',\n",
    "    'sec-ch-ua-platform': '\"Windows\"',\n",
    "    'upgrade-insecure-requests': '1',\n",
    "    'origin': 'https://crm.ementorhub.com',\n",
    "    'content-type': 'application/x-www-form-urlencoded',\n",
    "    'user-agent': 'Mozilla/5.0 (Windows NT 10.0; Win64; x64) AppleWebKit/537.36 (KHTML, like Gecko) Chrome/96.0.4664.45 Safari/537.36',\n",
    "    'accept': 'text/html,application/xhtml+xml,application/xml;q=0.9,image/avif,image/webp,image/apng,*/*;q=0.8,application/signed-exchange;v=b3;q=0.9',\n",
    "    'sec-fetch-site': 'same-origin',\n",
    "    'sec-fetch-mode': 'navigate',\n",
    "    'sec-fetch-user': '?1',\n",
    "    'sec-fetch-dest': 'document',\n",
    "    'referer': 'https://crm.ementorhub.com/index.php',\n",
    "    'accept-language': 'en-US,en;q=0.9,vi-VN;q=0.8,vi;q=0.7',\n",
    "    'cookie': '_ga=GA1.1.2138357637.1634886347; sugar_user_theme=SuiteP; ck_login_id_20=3173fd91-f99b-4417-e3e1-61961633ae78; ck_login_language_20=en_us; ck_login_theme_20=SuiteP; AOW_WorkFlow_divs=AOW_WorkFlow_aow_processed_v%3Dtrue%23undefined%3D%23; _ga_TZ0PQKEQSM=GS1.1.1638262441.43.1.1638263481.0; PHPSESSID=0cc9gjh4vb1cp95mkh36g373t5; Contacts_divs=Contacts_activities_v%3Dfalse%23undefined%3D%23Contacts_history_v%3Dfalse%23',\n",
    "}\n",
    "\n",
    "data = [\n",
    "  ('return_action', ''),\n",
    "  ('return_module', ''),\n",
    "  ('massupdate', 'false'),\n",
    "  ('delete', 'false'),\n",
    "  ('merge', 'false'),\n",
    "  ('current_query_by_page', '{\"return_action\":\"\",\"return_module\":\"\",\"massupdate\":\"false\",\"delete\":\"false\",\"merge\":\"false\",\"module\":\"Contacts\",\"action\":\"index\",\"lvso\":\"desc\",\"Contacts2_CONTACT_ORDER_BY\":\"date_entered\",\"uid\":\"\",\"select_entire_list\":\"0\",\"Contacts2_CONTACT_offset\":\"40\",\"show_plus\":\"\",\"selectCount\":[\"0\",\"0\"],\"Sync\":\"\",\"assigned_user_name\":\"\",\"assigned_user_id\":\"\",\"do_not_call\":\"\",\"lawful_basis\":\"\",\"date_reviewed\":\"\",\"lawful_basis_source\":\"\",\"lead_source\":\"\",\"account_name\":\"\",\"account_id\":\"\",\"opportunity_role\":\"\",\"report_to_name\":\"\",\"reports_to_id\":\"\",\"portal_account_disabled\":\"\",\"portal_user_type\":\"\",\"optout_primary\":\"\",\"optin_primary\":\"\",\"ajax_load\":\"1\",\"searchFormTab\":\"advanced_search\"}'),\n",
    "  ('module', 'Contacts'),\n",
    "  ('action', 'index'),\n",
    "  ('lvso', 'desc'),\n",
    "  ('Contacts2_CONTACT_ORDER_BY', 'date_entered'),\n",
    "  ('uid', ''),\n",
    "  ('select_entire_list', '0'),\n",
    "  ('Contacts2_CONTACT_offset', '20'),\n",
    "  ('show_plus', ''),\n",
    "  ('selectCount[]', '0'),\n",
    "  ('selectCount[]', '0'),\n",
    "  ('Sync', ''),\n",
    "  ('assigned_user_name', ''),\n",
    "  ('assigned_user_id', ''),\n",
    "  ('do_not_call', ''),\n",
    "  ('lawful_basis', ''),\n",
    "  ('date_reviewed', ''),\n",
    "  ('lawful_basis_source', ''),\n",
    "  ('lead_source', ''),\n",
    "  ('account_name', ''),\n",
    "  ('account_id', ''),\n",
    "  ('opportunity_role', ''),\n",
    "  ('report_to_name', ''),\n",
    "  ('reports_to_id', ''),\n",
    "  ('portal_account_disabled', ''),\n",
    "  ('portal_user_type', ''),\n",
    "  ('optout_primary', ''),\n",
    "  ('optin_primary', ''),\n",
    "]\n",
    "\n",
    "response = requests.post('https://crm.ementorhub.com/index.php', headers=headers, data=data)"
   ]
  },
  {
   "cell_type": "code",
   "execution_count": 3,
   "id": "f72e8a45",
   "metadata": {},
   "outputs": [],
   "source": [
    "response = response.content\n",
    "sel = scrapy.Selector(text = response)"
   ]
  },
  {
   "cell_type": "code",
   "execution_count": 4,
   "id": "d87f78f6",
   "metadata": {},
   "outputs": [],
   "source": [
    "def cleanSelector(obj, xpath = './text()'):\n",
    "    clean_list = []\n",
    "    for i in range(len(obj)):\n",
    "        if obj[i].xpath(xpath).extract():\n",
    "            clean_list.append(obj[i].xpath(xpath).extract()[0])\n",
    "        else:\n",
    "            clean_list.append(None)\n",
    "    return clean_list"
   ]
  },
  {
   "cell_type": "code",
   "execution_count": 8,
   "id": "e98ad2e2",
   "metadata": {},
   "outputs": [
    {
     "name": "stdout",
     "output_type": "stream",
     "text": [
      "\n",
      "Mr. Tâm Phạm Thanh\n"
     ]
    }
   ],
   "source": [
    "name = cleanSelector(sel.xpath('//*[@id=\"MassUpdate\"]/div[3]/table/tbody//tr/td[3]/b/a'), './text()')\n",
    "role = cleanSelector(sel.xpath('//*[@id=\"MassUpdate\"]/div[3]/table/tbody//tr/td[3]/b/a'), './text()')"
   ]
  },
  {
   "cell_type": "code",
   "execution_count": null,
   "id": "180c06a7",
   "metadata": {},
   "outputs": [],
   "source": []
  },
  {
   "cell_type": "code",
   "execution_count": null,
   "id": "b9041fc6",
   "metadata": {},
   "outputs": [],
   "source": []
  }
 ],
 "metadata": {
  "kernelspec": {
   "display_name": "Python 3",
   "language": "python",
   "name": "python3"
  },
  "language_info": {
   "codemirror_mode": {
    "name": "ipython",
    "version": 3
   },
   "file_extension": ".py",
   "mimetype": "text/x-python",
   "name": "python",
   "nbconvert_exporter": "python",
   "pygments_lexer": "ipython3",
   "version": "3.8.8"
  }
 },
 "nbformat": 4,
 "nbformat_minor": 5
}
