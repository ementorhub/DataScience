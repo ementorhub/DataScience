{
 "cells": [
  {
   "cell_type": "code",
   "execution_count": 1,
   "id": "c846b386",
   "metadata": {},
   "outputs": [],
   "source": [
    "import requests\n",
    "import scrapy\n",
    "import pandas as pd\n",
    "\n",
    "cookies = {\n",
    "    'wordpress_sec_6ef7f7293198b3c0f850c97eb92e606b': 'tuankiet%7C1637425052%7CfTFPinARCYTzlqCveNpCfmWIoINZzBOi7wMlOXhm6MI%7Cd91fb1d82ecbab96336a65f8c5bbe202d4943f2919b5c4bceb4bfb59e324c4fc',\n",
    "    'AWSALB': 'qy7H9oA1NxGyzzYeMNy+gkpaYOouuDfEridWbI9zt8MJ+l0OAXyGJMNjqffBfhwNlA35y7+h2BxdgMaxTKGxgGqc9L/qG7MZNCgAncUlSYtiaMwbjSy92Hn7A8Dn',\n",
    "    'AWSALBCORS': 'qy7H9oA1NxGyzzYeMNy+gkpaYOouuDfEridWbI9zt8MJ+l0OAXyGJMNjqffBfhwNlA35y7+h2BxdgMaxTKGxgGqc9L/qG7MZNCgAncUlSYtiaMwbjSy92Hn7A8Dn',\n",
    "    'PHPSESSID': 'sms9sc38qh7trh5jm6hp3mdl1s',\n",
    "    'wordpress_test_cookie': 'WP%20Cookie%20check',\n",
    "    'wordpress_logged_in_6ef7f7293198b3c0f850c97eb92e606b': 'tuankiet%7C1637425052%7CfTFPinARCYTzlqCveNpCfmWIoINZzBOi7wMlOXhm6MI%7C4e8831e1005017791b18b784c835325f3f518a0de5df82bc14a8b8fb65f5fc20',\n",
    "    'wp-wpml_current_admin_language_d41d8cd98f00b204e9800998ecf8427e': 'vi',\n",
    "    'wp-settings-time-187': '1637252374',\n",
    "}\n",
    "\n",
    "headers = {\n",
    "    'User-Agent': 'Mozilla/5.0 (Windows NT 10.0; Win64; x64; rv:94.0) Gecko/20100101 Firefox/94.0',\n",
    "    'Accept': 'text/html,application/xhtml+xml,application/xml;q=0.9,image/avif,image/webp,*/*;q=0.8',\n",
    "    'Accept-Language': 'en-US,en;q=0.5',\n",
    "    'Referer': 'https://ementorhub.com/wp-admin/',\n",
    "    'Connection': 'keep-alive',\n",
    "    'Upgrade-Insecure-Requests': '1',\n",
    "    'Sec-Fetch-Dest': 'document',\n",
    "    'Sec-Fetch-Mode': 'navigate',\n",
    "    'Sec-Fetch-Site': 'same-origin',\n",
    "    'Sec-Fetch-User': '?1',\n",
    "    'Cache-Control': 'max-age=0',\n",
    "    'TE': 'trailers',\n",
    "}"
   ]
  },
  {
   "cell_type": "code",
   "execution_count": 2,
   "id": "2bcfeb47",
   "metadata": {},
   "outputs": [],
   "source": [
    "def cleanSelector(obj, xpath = './text()'):\n",
    "    clean_list = []\n",
    "    for i in range(len(obj)):\n",
    "        if obj[i].xpath(xpath).extract():\n",
    "            clean_list.append(obj[i].xpath(xpath).extract()[0])\n",
    "        else:\n",
    "            clean_list.append(None)\n",
    "    return clean_list\n",
    "            "
   ]
  },
  {
   "cell_type": "code",
   "execution_count": 4,
   "id": "f55e66f3",
   "metadata": {},
   "outputs": [],
   "source": [
    "links = ['https://ementorhub.com/wp-admin/users.php',\n",
    "         'https://ementorhub.com/wp-admin/users.php?paged=2',\n",
    "         'https://ementorhub.com/wp-admin/users.php?paged=3',\n",
    "         'https://ementorhub.com/wp-admin/users.php?paged=4',\n",
    "         'https://ementorhub.com/wp-admin/users.php?paged=5']"
   ]
  },
  {
   "cell_type": "code",
   "execution_count": 7,
   "id": "b9b6613e",
   "metadata": {},
   "outputs": [],
   "source": [
    "data_dict = {'user': [],\n",
    "            'mail': [],\n",
    "            'link': [],\n",
    "            'role': [],\n",
    "            'detail': []}"
   ]
  },
  {
   "cell_type": "code",
   "execution_count": 204,
   "id": "6eed50ba",
   "metadata": {},
   "outputs": [
    {
     "ename": "IndexError",
     "evalue": "list index out of range",
     "output_type": "error",
     "traceback": [
      "\u001b[1;31m---------------------------------------------------------------------------\u001b[0m",
      "\u001b[1;31mIndexError\u001b[0m                                Traceback (most recent call last)",
      "\u001b[1;32m<ipython-input-204-003ae278a4b0>\u001b[0m in \u001b[0;36m<module>\u001b[1;34m\u001b[0m\n\u001b[0;32m     12\u001b[0m         \u001b[0mrole\u001b[0m \u001b[1;33m=\u001b[0m \u001b[0mroles\u001b[0m\u001b[1;33m[\u001b[0m\u001b[0mi\u001b[0m\u001b[1;33m]\u001b[0m\u001b[1;33m.\u001b[0m\u001b[0mxpath\u001b[0m\u001b[1;33m(\u001b[0m\u001b[1;34m'./text()'\u001b[0m\u001b[1;33m)\u001b[0m\u001b[1;33m.\u001b[0m\u001b[0mextract\u001b[0m\u001b[1;33m(\u001b[0m\u001b[1;33m)\u001b[0m\u001b[1;33m\u001b[0m\u001b[1;33m\u001b[0m\u001b[0m\n\u001b[0;32m     13\u001b[0m         \u001b[0mdata_dict\u001b[0m\u001b[1;33m[\u001b[0m\u001b[1;34m'user'\u001b[0m\u001b[1;33m]\u001b[0m\u001b[1;33m.\u001b[0m\u001b[0mappend\u001b[0m\u001b[1;33m(\u001b[0m\u001b[0muser\u001b[0m\u001b[1;33m[\u001b[0m\u001b[1;36m0\u001b[0m\u001b[1;33m]\u001b[0m\u001b[1;33m)\u001b[0m\u001b[1;33m\u001b[0m\u001b[1;33m\u001b[0m\u001b[0m\n\u001b[1;32m---> 14\u001b[1;33m         \u001b[0mdata_dict\u001b[0m\u001b[1;33m[\u001b[0m\u001b[1;34m'mail'\u001b[0m\u001b[1;33m]\u001b[0m\u001b[1;33m.\u001b[0m\u001b[0mappend\u001b[0m\u001b[1;33m(\u001b[0m\u001b[0mmail\u001b[0m\u001b[1;33m[\u001b[0m\u001b[1;36m0\u001b[0m\u001b[1;33m]\u001b[0m\u001b[1;33m)\u001b[0m\u001b[1;33m\u001b[0m\u001b[1;33m\u001b[0m\u001b[0m\n\u001b[0m\u001b[0;32m     15\u001b[0m         \u001b[0mdata_dict\u001b[0m\u001b[1;33m[\u001b[0m\u001b[1;34m'link'\u001b[0m\u001b[1;33m]\u001b[0m\u001b[1;33m.\u001b[0m\u001b[0mappend\u001b[0m\u001b[1;33m(\u001b[0m\u001b[0mlink\u001b[0m\u001b[1;33m[\u001b[0m\u001b[1;36m0\u001b[0m\u001b[1;33m]\u001b[0m\u001b[1;33m)\u001b[0m\u001b[1;33m\u001b[0m\u001b[1;33m\u001b[0m\u001b[0m\n\u001b[0;32m     16\u001b[0m         \u001b[0mdata_dict\u001b[0m\u001b[1;33m[\u001b[0m\u001b[1;34m'role'\u001b[0m\u001b[1;33m]\u001b[0m\u001b[1;33m.\u001b[0m\u001b[0mappend\u001b[0m\u001b[1;33m(\u001b[0m\u001b[0mroles\u001b[0m\u001b[1;33m[\u001b[0m\u001b[1;36m0\u001b[0m\u001b[1;33m]\u001b[0m\u001b[1;33m)\u001b[0m\u001b[1;33m\u001b[0m\u001b[1;33m\u001b[0m\u001b[0m\n",
      "\u001b[1;31mIndexError\u001b[0m: list index out of range"
     ]
    }
   ],
   "source": [
    "\n",
    "for link in links:\n",
    "    response = requests.get(link, headers=headers, cookies=cookies).content\n",
    "    sel = scrapy.Selector(text = response)\n",
    "    users = sel.xpath('//*[@id=\"the-list\"]//strong/a')\n",
    "    mails = sel.xpath('//*[@id=\"the-list\"]//td[@class = \"email column-email\"]/a')\n",
    "    links = sel.xpath('//*[@id=\"the-list\"]//td[@class = \"username column-username has-row-actions column-primary\"]/strong/a')\n",
    "    roles = sel.xpath('//*[@id=\"the-list\"]//td[@class = \"role column-role\"]')\n",
    "    for i in range(len(users)):\n",
    "        user = users[i].xpath('./text()').extract()\n",
    "        mail = mails[i].xpath('./text()').extract()\n",
    "        link = links[i].xpath('./@href').extract()\n",
    "        role = roles[i].xpath('./text()').extract()\n",
    "        data_dict['user'].append(user[0])\n",
    "        data_dict['mail'].append(mail[0])\n",
    "        data_dict['link'].append(link[0])\n",
    "        data_dict['role'].append(roles[0])\n",
    "        if role[0] == \"Administrator\":\n",
    "            data_dict['detail'].append('a')\n",
    "        else:\n",
    "            data_dict['detail'].append('b')\n",
    "            \n",
    "        \n",
    "    \n",
    "\n",
    "# mail_dict = {'user':user_list, 'email': mail_list}\n",
    "df = pd.DataFrame(data_dict)\n",
    "\n",
    "df.to_csv('email', index = False)\n",
    "display(df)"
   ]
  },
  {
   "cell_type": "code",
   "execution_count": 6,
   "id": "00f7a183",
   "metadata": {},
   "outputs": [
    {
     "name": "stdout",
     "output_type": "stream",
     "text": [
      "['18120256@student.hcmus.edu.vn', 'ai17802.ai@gmail.com', 'alanvo1510@gmail.com', 'anguy012@uottawa.ca', 'anh.nguyen@acs-aec.ca', 'ba198647@hotmail.com', 'bendick2@gmail.com', 'bichtuyen84@gmail.com', None, 'caothenguyen@outlook.com', 'chitrung318@gmail.com', 'congduyto@gmail.com', 'conthomautim@gmail.com', 'vt.dangkhoa510@gmail.com', 'dkhn1201@gmail.com', 'dlhson@gmail.com', 'dohoangvienpr@gmail.com', 'dongnd@greenglobal.vn', 'dungntp92@gmail.com', 'duy.buibao@gmail.com']\n"
     ]
    },
    {
     "data": {
      "text/plain": [
       "20"
      ]
     },
     "metadata": {},
     "output_type": "display_data"
    },
    {
     "name": "stdout",
     "output_type": "stream",
     "text": [
      "['contact@ementorhub.com', 'ba198647@gmail.com', 'gsthanhnguyen@gmail.com', 'hanhieuhan@gmail.com', 'hghblignz@gmail.com', None, 'blog@ementorhub.com', 'hoangphu.nguyen192@gmail.com', 'hongnga.hoang@gmail.com', 'huong.giang.arch@gmail.com', 'huongtrinh95nk@gmail.com', 'Huuquilx@gmail.com', 'igor.kozlov@mail.mcgill.ca', 'it.huynhdiep@gmail.com', 'jay_freeman89@yahoo.com', 'kevin.khoinguyen@gmail.com', 'khucnhacthangtu85@gmail.com', 'kimno9306@gmail.com', None, 'lamky78@gmail.com']\n"
     ]
    },
    {
     "data": {
      "text/plain": [
       "20"
      ]
     },
     "metadata": {},
     "output_type": "display_data"
    },
    {
     "name": "stdout",
     "output_type": "stream",
     "text": [
      "['lenadinh@gmail.com', 'lh.ngocthach@gmail.com', 'maiq8919@gmail.com', 'minh.vth3799@gmail.com', 'minhtri191195@gmail.com', 'moidichvu.com@gmail.com', 'ms.nguyenphuonganh@gmail.com', 'mynganmytram1195@gmail.com', 'ngongoccuong@gmail.com', 'nguyenngoc216@gmail.com', 'nguyentronghieu702@gmail.com', 'nhungvo201@gmail.com', 'nhungnhung201@gmail.com', 'noname201244@gmail.com', 'noname20124444@gmail.com', None, 'noname201293@gmail.com', 'noname9880532@gmail.com', 'ntqchau@gmail.com', 'phamtam.tn@gmail.com']\n"
     ]
    },
    {
     "data": {
      "text/plain": [
       "20"
      ]
     },
     "metadata": {},
     "output_type": "display_data"
    },
    {
     "name": "stdout",
     "output_type": "stream",
     "text": [
      "['phanhuudinh@hotmail.com', 'phuonganh.2x2g@gmail.com', 'phuonganh.le018@gmail.com', 'phuongnamhoang@hotmail.com', None, 'quynhhuongp507@gmail.com', 'ryan.phung@gmail.com', 'seifermaster@gmail.com', 'sman8240@gmail.com', 'sonhuynhhong1998@gmail.com', None, 'thanhnt@greenglobal.vn', 'thinhchung2009@gmail.com', 'thomas.rademaker@mail.mcgill.ca', 'thuyt1198@gmail.com', 'thuyvan.ulis@gmail.com', None, 'tranthithaianh1610@gmail.com', 'tranvanluan7@gmail.com', 'truonghn.bk@gmail.com']\n"
     ]
    },
    {
     "data": {
      "text/plain": [
       "20"
      ]
     },
     "metadata": {},
     "output_type": "display_data"
    },
    {
     "name": "stdout",
     "output_type": "stream",
     "text": [
      "['truonghn@greenglobal.vn', 'truongmytramcv@gmail.com', 'truongnln@live.com', 'tttm_2006@yahoo.com.vn', 'buituankiet132000@gmail.com', 'tuduytre@gmail.com', None, 'tuyetnhungspring@gmail.com', 'vu.q.dam@gmail.com', None, 'wearethesame13@gmail.com', 'lamky0708@gmail.com', 'xuanhoa.du@gmail.com']\n"
     ]
    },
    {
     "data": {
      "text/plain": [
       "13"
      ]
     },
     "metadata": {},
     "output_type": "display_data"
    }
   ],
   "source": [
    "for link in links:\n",
    "    response = requests.get(link, headers=headers, cookies=cookies).content\n",
    "    sel = scrapy.Selector(text = response)\n",
    "    mails = sel.xpath('//*[@id=\"the-list\"]//td[@class = \"email column-email\"]/a')\n",
    "    users_clean = cleanSelector(mails)\n",
    "    print(users_clean)\n",
    "    display(len(users_clean))"
   ]
  },
  {
   "cell_type": "code",
   "execution_count": 151,
   "id": "f97c73fc",
   "metadata": {},
   "outputs": [],
   "source": []
  },
  {
   "cell_type": "code",
   "execution_count": 152,
   "id": "df72920c",
   "metadata": {},
   "outputs": [
    {
     "data": {
      "text/plain": [
       "'https://ementorhub.com/wp-admin/user-edit.php?user_id=96&wp_http_referer=%2Fwp-admin%2Fusers.php%3Fpaged%3D5'"
      ]
     },
     "execution_count": 152,
     "metadata": {},
     "output_type": "execute_result"
    }
   ],
   "source": [
    "b[0]"
   ]
  },
  {
   "cell_type": "code",
   "execution_count": 153,
   "id": "a87cfaf8",
   "metadata": {},
   "outputs": [
    {
     "name": "stdout",
     "output_type": "stream",
     "text": [
      "<Selector xpath=None data='<html class=\"wp-toolbar\" lang=\"vi-VN\"...'>\n"
     ]
    }
   ],
   "source": [
    "obj = requests.get(b[0], headers=headers, cookies=cookies).content\n",
    "res = scrapy.Selector(text = response)\n",
    "print(res)"
   ]
  },
  {
   "cell_type": "code",
   "execution_count": 166,
   "id": "1cb7dd0e",
   "metadata": {},
   "outputs": [
    {
     "data": {
      "text/plain": [
       "13"
      ]
     },
     "execution_count": 166,
     "metadata": {},
     "output_type": "execute_result"
    }
   ],
   "source": [
    "len(roles)"
   ]
  },
  {
   "cell_type": "code",
   "execution_count": 173,
   "id": "073b33d0",
   "metadata": {},
   "outputs": [
    {
     "data": {
      "text/plain": [
       "'Mentor'"
      ]
     },
     "execution_count": 173,
     "metadata": {},
     "output_type": "execute_result"
    }
   ],
   "source": [
    "roles[0].xpath('./text()').extract()[0]"
   ]
  },
  {
   "cell_type": "code",
   "execution_count": 205,
   "id": "2e25a131",
   "metadata": {},
   "outputs": [],
   "source": [
    "emp = []"
   ]
  },
  {
   "cell_type": "code",
   "execution_count": 206,
   "id": "e95fa81a",
   "metadata": {},
   "outputs": [
    {
     "ename": "IndexError",
     "evalue": "list index out of range",
     "output_type": "error",
     "traceback": [
      "\u001b[1;31m---------------------------------------------------------------------------\u001b[0m",
      "\u001b[1;31mIndexError\u001b[0m                                Traceback (most recent call last)",
      "\u001b[1;32m<ipython-input-206-df357f20fa29>\u001b[0m in \u001b[0;36m<module>\u001b[1;34m\u001b[0m\n\u001b[1;32m----> 1\u001b[1;33m \u001b[0memp\u001b[0m\u001b[1;33m[\u001b[0m\u001b[1;36m0\u001b[0m\u001b[1;33m]\u001b[0m\u001b[1;33m\u001b[0m\u001b[1;33m\u001b[0m\u001b[0m\n\u001b[0m",
      "\u001b[1;31mIndexError\u001b[0m: list index out of range"
     ]
    }
   ],
   "source": [
    "emp[0]"
   ]
  },
  {
   "cell_type": "code",
   "execution_count": 207,
   "id": "c95a6d67",
   "metadata": {},
   "outputs": [
    {
     "ename": "AttributeError",
     "evalue": "'list' object has no attribute 'isempty'",
     "output_type": "error",
     "traceback": [
      "\u001b[1;31m---------------------------------------------------------------------------\u001b[0m",
      "\u001b[1;31mAttributeError\u001b[0m                            Traceback (most recent call last)",
      "\u001b[1;32m<ipython-input-207-bff4c3ad6be5>\u001b[0m in \u001b[0;36m<module>\u001b[1;34m\u001b[0m\n\u001b[1;32m----> 1\u001b[1;33m \u001b[0memp\u001b[0m\u001b[1;33m.\u001b[0m\u001b[0misempty\u001b[0m\u001b[1;33m(\u001b[0m\u001b[1;33m)\u001b[0m\u001b[1;33m\u001b[0m\u001b[1;33m\u001b[0m\u001b[0m\n\u001b[0m",
      "\u001b[1;31mAttributeError\u001b[0m: 'list' object has no attribute 'isempty'"
     ]
    }
   ],
   "source": [
    "emp.isempty()"
   ]
  },
  {
   "cell_type": "code",
   "execution_count": 1,
   "id": "ca02f0a4",
   "metadata": {},
   "outputs": [],
   "source": [
    "a = [None]"
   ]
  },
  {
   "cell_type": "code",
   "execution_count": 2,
   "id": "4fb7e6a1",
   "metadata": {},
   "outputs": [
    {
     "name": "stdout",
     "output_type": "stream",
     "text": [
      "[None]\n"
     ]
    }
   ],
   "source": [
    "print(a\n",
    "     )"
   ]
  },
  {
   "cell_type": "code",
   "execution_count": null,
   "id": "019c4314",
   "metadata": {},
   "outputs": [],
   "source": []
  }
 ],
 "metadata": {
  "kernelspec": {
   "display_name": "Python 3",
   "language": "python",
   "name": "python3"
  },
  "language_info": {
   "codemirror_mode": {
    "name": "ipython",
    "version": 3
   },
   "file_extension": ".py",
   "mimetype": "text/x-python",
   "name": "python",
   "nbconvert_exporter": "python",
   "pygments_lexer": "ipython3",
   "version": "3.8.8"
  }
 },
 "nbformat": 4,
 "nbformat_minor": 5
}
